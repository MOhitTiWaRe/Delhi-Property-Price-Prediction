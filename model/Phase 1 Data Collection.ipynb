{
 "cells": [
  {
   "cell_type": "markdown",
   "id": "50f6d465",
   "metadata": {},
   "source": [
    "# Data Gathering\n",
    "\n",
    "**In this phase, our goal is to collect property data for Delhi from `Makaan.com`, an Indian online real estate platform and property listing website.** \n",
    "\n",
    "Makaan.com serves as a marketplace where both individuals and real estate professionals can list and search for various types of properties, including apartments, houses, land, and commercial spaces available for sale or rent in numerous Indian cities. To ensure a comprehensive understanding, we will gather the following details:\n",
    "\n",
    "1. Property Location\n",
    "2. Construction Status\n",
    "3. Price\n",
    "4. Area\n",
    "5. Number of Bedrooms (BHK)\n",
    "6. Number of Bathrooms\n",
    "\n",
    "Website Link: https://www.makaan.com/delhi-residential-property/buy-property-in-delhi-city"
   ]
  },
  {
   "cell_type": "markdown",
   "id": "676d17a1",
   "metadata": {},
   "source": [
    "### Imports"
   ]
  },
  {
   "cell_type": "code",
   "execution_count": 1,
   "id": "d96ac7ca",
   "metadata": {},
   "outputs": [],
   "source": [
    "import pandas as pd\n",
    "import numpy as np\n",
    "from bs4 import BeautifulSoup\n",
    "import requests"
   ]
  },
  {
   "cell_type": "markdown",
   "id": "498f9700",
   "metadata": {},
   "source": [
    "### Lists for Individual Collection"
   ]
  },
  {
   "cell_type": "code",
   "execution_count": 2,
   "id": "31524e9d",
   "metadata": {},
   "outputs": [],
   "source": [
    "tagline = []\n",
    "construction_status = []\n",
    "price = []\n",
    "area = []\n",
    "bathrooms = []"
   ]
  },
  {
   "cell_type": "markdown",
   "id": "b869c2f8",
   "metadata": {},
   "source": [
    "### Web Scrapping"
   ]
  },
  {
   "cell_type": "code",
   "execution_count": 3,
   "id": "28e0b3dc",
   "metadata": {},
   "outputs": [
    {
     "name": "stdout",
     "output_type": "stream",
     "text": [
      "Scraping took 2374.0850162506104 seconds.\n"
     ]
    }
   ],
   "source": [
    "import time\n",
    "\n",
    "start_time = time.time()\n",
    "\n",
    "# Iterate through pages 1 to 2600\n",
    "for i in range(1, 2600):\n",
    "    \n",
    "    # Construct the URL for each page\n",
    "    page_url = f\"https://www.makaan.com/listings?sortBy=date-desc&listingType=buy&pageType=CITY_URLS&cityName=Delhi&cityId=6&templateId=MAKAAN_CITY_LISTING_BUY&page={i}\"\n",
    "    \n",
    "    try:\n",
    "        # Send an HTTP GET request to the URL\n",
    "        page = requests.get(page_url)\n",
    "        \n",
    "        # Check if the request was successful\n",
    "        if page.status_code == 200:\n",
    "            # Parse the page content with BeautifulSoup\n",
    "            soup = BeautifulSoup(page.content, \"html.parser\")\n",
    "            \n",
    "            for span in soup.find_all('div', class_='txt'):\n",
    "                try:\n",
    "                    tagline.append(span.find('h3', class_='seo-hdng').find('span').text)\n",
    "                except AttributeError:\n",
    "                    tagline.append('NULL')                   \n",
    "\n",
    "            try:\n",
    "                construction_status.extend([item.text for item in soup.find_all('td', class_='val')])\n",
    "            except AttributeError:\n",
    "                construction_status.append('NULL')\n",
    "                \n",
    "            try:\n",
    "                price.extend([f\"{price_span.text} {unit_span.text}\" for price_span, unit_span in zip(soup.find_all('span', class_='val', itemprop='offers'), soup.find_all('span', class_='unit'))])\n",
    "            except AttributeError:\n",
    "                price.append('NULL')                \n",
    "                                \n",
    "            try:\n",
    "                area.extend([item.text for item in soup.find_all('td', class_='size')])\n",
    "            except AttributeError:\n",
    "                area.append('NULL')\n",
    "\n",
    "            try:\n",
    "                bathrooms.extend([item.text for item in soup.find_all('li', title='Bathrooms')])\n",
    "            except AttributeError:\n",
    "                bathrooms.append('NULL')                \n",
    "\n",
    "        else:\n",
    "            print(f\"Error: Unable to retrieve page {i}. Status code: {page.status_code}\")\n",
    "    except Exception as e:\n",
    "        print(f\"Error: An error occurred on page {i}. {str(e)}\")\n",
    "\n",
    "end_time = time.time()\n",
    "elapsed_time = end_time - start_time\n",
    "print(f\"Scraping took {elapsed_time} seconds.\")\n"
   ]
  },
  {
   "cell_type": "markdown",
   "id": "ab511cfc",
   "metadata": {},
   "source": [
    "### Checking Data for Proper Construction of Data Frame"
   ]
  },
  {
   "cell_type": "code",
   "execution_count": 11,
   "id": "26f28c05",
   "metadata": {
    "scrolled": true
   },
   "outputs": [
    {
     "name": "stdout",
     "output_type": "stream",
     "text": [
      "Length of Tagline list: 49980\n",
      "Length of Construction Status list: 51980\n",
      "Length of Price list: 51980\n",
      "Length of Area list: 51980\n",
      "Length of Bathrooms list: 49980\n"
     ]
    }
   ],
   "source": [
    "print(\"Length of Tagline list:\", len(tagline))\n",
    "print(\"Length of Construction Status list:\", len(construction_status))\n",
    "print(\"Length of Price list:\", len(price))\n",
    "print(\"Length of Area list:\", len(area))\n",
    "print(\"Length of Bathrooms list:\", len(bathrooms))"
   ]
  },
  {
   "cell_type": "markdown",
   "id": "68affb14",
   "metadata": {},
   "source": [
    "#### Matching the Lengths of all the Lists"
   ]
  },
  {
   "cell_type": "code",
   "execution_count": 24,
   "id": "c6b3b86c",
   "metadata": {},
   "outputs": [],
   "source": [
    "null_values_to_add = len(price) - 49980\n",
    "tagline.extend([None] * null_values_to_add)\n",
    "bathrooms.extend([None] * null_values_to_add)"
   ]
  },
  {
   "cell_type": "code",
   "execution_count": 25,
   "id": "385827f1",
   "metadata": {},
   "outputs": [
    {
     "name": "stdout",
     "output_type": "stream",
     "text": [
      "Length of Tagline list: 51980\n",
      "Length of Bathrooms list: 51980\n"
     ]
    }
   ],
   "source": [
    "print(\"Length of Tagline list:\", len(tagline))\n",
    "print(\"Length of Bathrooms list:\", len(bathrooms))"
   ]
  },
  {
   "cell_type": "markdown",
   "id": "62ad354f",
   "metadata": {},
   "source": [
    "### Constructing DataFrame"
   ]
  },
  {
   "cell_type": "code",
   "execution_count": 26,
   "id": "5fcc823a",
   "metadata": {},
   "outputs": [],
   "source": [
    "data = {\n",
    "    'Tagline': tagline,\n",
    "    'Construction Status': construction_status,\n",
    "    'Price': price,\n",
    "    'Area': area,\n",
    "    'Bathrooms': bathrooms\n",
    "}\n",
    "\n",
    "df = pd.DataFrame(data)"
   ]
  },
  {
   "cell_type": "code",
   "execution_count": 27,
   "id": "dd27bb93",
   "metadata": {},
   "outputs": [
    {
     "data": {
      "text/html": [
       "<div>\n",
       "<style scoped>\n",
       "    .dataframe tbody tr th:only-of-type {\n",
       "        vertical-align: middle;\n",
       "    }\n",
       "\n",
       "    .dataframe tbody tr th {\n",
       "        vertical-align: top;\n",
       "    }\n",
       "\n",
       "    .dataframe thead th {\n",
       "        text-align: right;\n",
       "    }\n",
       "</style>\n",
       "<table border=\"1\" class=\"dataframe\">\n",
       "  <thead>\n",
       "    <tr style=\"text-align: right;\">\n",
       "      <th></th>\n",
       "      <th>Tagline</th>\n",
       "      <th>Construction Status</th>\n",
       "      <th>Price</th>\n",
       "      <th>Area</th>\n",
       "      <th>Bathrooms</th>\n",
       "    </tr>\n",
       "  </thead>\n",
       "  <tbody>\n",
       "    <tr>\n",
       "      <th>0</th>\n",
       "      <td>3 BHK  in Sector 3 Dwarka Delhi</td>\n",
       "      <td>Ready to move</td>\n",
       "      <td>1.8  Cr</td>\n",
       "      <td>1900</td>\n",
       "      <td>3 Bathrooms</td>\n",
       "    </tr>\n",
       "    <tr>\n",
       "      <th>1</th>\n",
       "      <td>3 BHK  in Sector 3 Dwarka Delhi</td>\n",
       "      <td>Ready to move</td>\n",
       "      <td>1.8  Cr</td>\n",
       "      <td>1900</td>\n",
       "      <td>2 Bathrooms</td>\n",
       "    </tr>\n",
       "    <tr>\n",
       "      <th>2</th>\n",
       "      <td>3 BHK  in Sector 3 Dwarka Delhi</td>\n",
       "      <td>Ready to move</td>\n",
       "      <td>1.8  Cr</td>\n",
       "      <td>1900</td>\n",
       "      <td>2 Bathrooms</td>\n",
       "    </tr>\n",
       "    <tr>\n",
       "      <th>3</th>\n",
       "      <td>3 BHK  in Sector 3 Dwarka Delhi</td>\n",
       "      <td>Ready to move</td>\n",
       "      <td>1.81  Cr</td>\n",
       "      <td>1900</td>\n",
       "      <td>3 Bathrooms</td>\n",
       "    </tr>\n",
       "    <tr>\n",
       "      <th>4</th>\n",
       "      <td>3 BHK  in Sector 3 Dwarka Delhi</td>\n",
       "      <td>Ready to move</td>\n",
       "      <td>1.8  Cr</td>\n",
       "      <td>1900</td>\n",
       "      <td>3 Bathrooms</td>\n",
       "    </tr>\n",
       "    <tr>\n",
       "      <th>...</th>\n",
       "      <td>...</td>\n",
       "      <td>...</td>\n",
       "      <td>...</td>\n",
       "      <td>...</td>\n",
       "      <td>...</td>\n",
       "    </tr>\n",
       "    <tr>\n",
       "      <th>51975</th>\n",
       "      <td>None</td>\n",
       "      <td>Ready to move</td>\n",
       "      <td>25  L</td>\n",
       "      <td>600</td>\n",
       "      <td>None</td>\n",
       "    </tr>\n",
       "    <tr>\n",
       "      <th>51976</th>\n",
       "      <td>None</td>\n",
       "      <td>Ready to move</td>\n",
       "      <td>4  Cr</td>\n",
       "      <td>1800</td>\n",
       "      <td>None</td>\n",
       "    </tr>\n",
       "    <tr>\n",
       "      <th>51977</th>\n",
       "      <td>None</td>\n",
       "      <td>Ready to move</td>\n",
       "      <td>36.32  L</td>\n",
       "      <td>789</td>\n",
       "      <td>None</td>\n",
       "    </tr>\n",
       "    <tr>\n",
       "      <th>51978</th>\n",
       "      <td>None</td>\n",
       "      <td>Ready to move</td>\n",
       "      <td>48  L</td>\n",
       "      <td>1000</td>\n",
       "      <td>None</td>\n",
       "    </tr>\n",
       "    <tr>\n",
       "      <th>51979</th>\n",
       "      <td>None</td>\n",
       "      <td>Ready to move</td>\n",
       "      <td>95  L</td>\n",
       "      <td>1100</td>\n",
       "      <td>None</td>\n",
       "    </tr>\n",
       "  </tbody>\n",
       "</table>\n",
       "<p>51980 rows × 5 columns</p>\n",
       "</div>"
      ],
      "text/plain": [
       "                               Tagline Construction Status     Price   Area  \\\n",
       "0      3 BHK  in Sector 3 Dwarka Delhi       Ready to move   1.8  Cr  1900    \n",
       "1      3 BHK  in Sector 3 Dwarka Delhi       Ready to move   1.8  Cr  1900    \n",
       "2      3 BHK  in Sector 3 Dwarka Delhi       Ready to move   1.8  Cr  1900    \n",
       "3      3 BHK  in Sector 3 Dwarka Delhi       Ready to move  1.81  Cr  1900    \n",
       "4      3 BHK  in Sector 3 Dwarka Delhi       Ready to move   1.8  Cr  1900    \n",
       "...                                ...                 ...       ...    ...   \n",
       "51975                             None       Ready to move     25  L   600    \n",
       "51976                             None       Ready to move     4  Cr  1800    \n",
       "51977                             None       Ready to move  36.32  L   789    \n",
       "51978                             None       Ready to move     48  L  1000    \n",
       "51979                             None       Ready to move     95  L  1100    \n",
       "\n",
       "         Bathrooms  \n",
       "0      3 Bathrooms  \n",
       "1      2 Bathrooms  \n",
       "2      2 Bathrooms  \n",
       "3      3 Bathrooms  \n",
       "4      3 Bathrooms  \n",
       "...            ...  \n",
       "51975         None  \n",
       "51976         None  \n",
       "51977         None  \n",
       "51978         None  \n",
       "51979         None  \n",
       "\n",
       "[51980 rows x 5 columns]"
      ]
     },
     "execution_count": 27,
     "metadata": {},
     "output_type": "execute_result"
    }
   ],
   "source": [
    "df"
   ]
  },
  {
   "cell_type": "markdown",
   "id": "0a2586da",
   "metadata": {},
   "source": [
    "### Saving DataFrame as `xlsx` file"
   ]
  },
  {
   "cell_type": "code",
   "execution_count": 28,
   "id": "ba031721",
   "metadata": {},
   "outputs": [],
   "source": [
    "import os\n",
    "\n",
    "cwd = os.getcwd()\n",
    "df.to_excel(cwd + \"/Delhi-House-Prices.xlsx\", index = False)"
   ]
  },
  {
   "cell_type": "code",
   "execution_count": null,
   "id": "a7fcbb02",
   "metadata": {},
   "outputs": [],
   "source": []
  }
 ],
 "metadata": {
  "kernelspec": {
   "display_name": "Python 3 (ipykernel)",
   "language": "python",
   "name": "python3"
  },
  "language_info": {
   "codemirror_mode": {
    "name": "ipython",
    "version": 3
   },
   "file_extension": ".py",
   "mimetype": "text/x-python",
   "name": "python",
   "nbconvert_exporter": "python",
   "pygments_lexer": "ipython3",
   "version": "3.11.4"
  }
 },
 "nbformat": 4,
 "nbformat_minor": 5
}
